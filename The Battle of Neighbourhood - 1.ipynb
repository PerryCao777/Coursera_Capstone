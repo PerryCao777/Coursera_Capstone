{
 "cells": [
  {
   "cell_type": "markdown",
   "metadata": {
    "collapsed": true
   },
   "source": [
    "# Capstone Project - The Battle of Neighborhoods"
   ]
  },
  {
   "cell_type": "markdown",
   "metadata": {},
   "source": [
    "## Challenge 1 - Business Understanding and Data Science Methodology"
   ]
  },
  {
   "cell_type": "markdown",
   "metadata": {},
   "source": [
    "### Business Understanding"
   ]
  },
  {
   "cell_type": "markdown",
   "metadata": {},
   "source": [
    "#### Business Scenarios"
   ]
  },
  {
   "cell_type": "markdown",
   "metadata": {},
   "source": [
    "United States has been on top trending of paradise of new start up companies. There have been loads of immigrants to US with new business sections created and challenged. The trending generates more challenges for accomodation in the Country. One of the most challenging city for accomodation of immigrant is New York City. The City is diversed, competitive and captial of USA's Finance. The cosmopolitan in the city offers the City a lot of attractions to immigrants who wanna growth their Dream in the city.\n",
    "\n",
    "Because of the aggressions of immigrants and high competition in New York City, an idea of creating a new business model that affords medium-income workers can have comfort accomodation in the city. To make the business idea happens, firstly we should analyse the city and gain more insights from the city in terms of population, transportation, opportunities, risks, affections, and so on. The ultimate of the project is to understand the market by strategical insights released based on Data Science in order to Business Owners make strategic decision for their business. "
   ]
  },
  {
   "cell_type": "markdown",
   "metadata": {},
   "source": [
    "#### Business Problem Description"
   ]
  },
  {
   "cell_type": "markdown",
   "metadata": {},
   "source": [
    "The perfect challenge is to ideate business model that provides assistance to homebuyers in New York to widen their choices of affordable accommodation that perfectly shared model such like Airbnb. \n",
    "\n",
    "Big question is how we identify the perfect information to homebuyers in the curcumstances of uncertain status of New York's Financial Scenarios? Besides that, the impacting factors such as: Population, Segmentation, Saturation are top concerns that need to be preidcted and firgured out. \n",
    "\n",
    "With Data Science, we will steps by steps to demonstrate the Cluster of New York City neighbourhoods. By giving the visualation of Cluster, we can recommend affordable accomodations for homebuyers according to area's facilities."
   ]
  },
  {
   "cell_type": "markdown",
   "metadata": {},
   "source": [
    "### Data Collection: \n",
    "\n",
    "City - New York City.\n",
    "\n",
    "Datasets to understanding the City.\n",
    "\n",
    "Source 1 - Neighbourhood Data: https://geo.nyu.edu/catalog/nyu-2451-34572\n",
    "\n",
    "Soure 2 - New York Population: https://en.wikipedia.org/wiki/New_York_City\n",
    "\n",
    "Source 3 - New York Economic: https://money.cnn.com/magazines/fortune/fortune500/2011/cities/\n",
    "\n",
    "source 4 - New York Housing Data: https://data.cityofnewyork.us/Housing-Development/Housing-New-York-Units-by-Project/hq68-rnsi/data\n",
    "\n",
    "##### With multiple sourcesof data, we will access each of data to select target locations across different venues based on the accordance of filtering facitilities and factors. To make a JOIN to data of properties and pricing and other factors, we will explore 4 sources and plus with Foursquare API interface, we will be able to recommend affordable accommodation"
   ]
  },
  {
   "cell_type": "markdown",
   "metadata": {},
   "source": [
    "### Measurables"
   ]
  },
  {
   "cell_type": "markdown",
   "metadata": {},
   "source": [
    "1. Market Understanding of Strategic Locations\n",
    "2. Ideal recommendation of accommodation in compared with Neighbourhood to homebuyers"
   ]
  },
  {
   "cell_type": "markdown",
   "metadata": {},
   "source": [
    "## Methodology"
   ]
  },
  {
   "cell_type": "markdown",
   "metadata": {},
   "source": [
    "1. Data Understanding Data - \n",
    "CRISP-DM combines the stages of Data Requirements, Data Collection, and Data Understanding. -> Data Preparation \n",
    "2. Data Preparation - Data Preprocessing - \n",
    "Transformed into a useable subset. Once a dataset is chosen, it must then be checked for questionable, missing, or ambiguous cases\n",
    "3. Modeling - \n",
    "Select appropriate models, give meaningful insights, and hopefully new knowledge."
   ]
  },
  {
   "cell_type": "markdown",
   "metadata": {},
   "source": [
    "## Complete Week 1 - Challenge"
   ]
  },
  {
   "cell_type": "code",
   "execution_count": null,
   "metadata": {},
   "outputs": [],
   "source": []
  }
 ],
 "metadata": {
  "kernelspec": {
   "display_name": "Python 3.6",
   "language": "python",
   "name": "python3"
  },
  "language_info": {
   "codemirror_mode": {
    "name": "ipython",
    "version": 3
   },
   "file_extension": ".py",
   "mimetype": "text/x-python",
   "name": "python",
   "nbconvert_exporter": "python",
   "pygments_lexer": "ipython3",
   "version": "3.6.9"
  }
 },
 "nbformat": 4,
 "nbformat_minor": 1
}
